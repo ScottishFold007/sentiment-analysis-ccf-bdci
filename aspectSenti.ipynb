{
  "nbformat": 4,
  "nbformat_minor": 0,
  "metadata": {
    "colab": {
      "name": "aspectSenti.ipynb",
      "version": "0.3.2",
      "provenance": [],
      "collapsed_sections": []
    },
    "kernelspec": {
      "name": "python3",
      "display_name": "Python 3"
    },
    "accelerator": "TPU"
  },
  "cells": [
    {
      "metadata": {
        "id": "84egJE37GH_X",
        "colab_type": "text"
      },
      "cell_type": "markdown",
      "source": [
        "# BLSTM Model with Attention <br/>for Aspect-Level Sentiment Analysis"
      ]
    },
    {
      "metadata": {
        "id": "ez40SfKG9O7f",
        "colab_type": "code",
        "colab": {}
      },
      "cell_type": "code",
      "source": [
        "from google.colab import drive\n",
        "drive.mount('/gdrive')\n",
        "!cp /gdrive/My\\ Drive/{train.csv,embeddings.p,test_public.csv} .\n",
        "!pip install -q pydot graphviz jieba\n",
        "!apt-get install graphviz > /dev/null"
      ],
      "execution_count": 0,
      "outputs": []
    },
    {
      "metadata": {
        "id": "aqODzuK7xynq",
        "colab_type": "code",
        "outputId": "ca2a8e3c-d7e4-4a24-a97b-1a3b95265dbf",
        "colab": {
          "base_uri": "https://localhost:8080/",
          "height": 33
        }
      },
      "cell_type": "code",
      "source": [
        "import jieba\n",
        "import pickle\n",
        "import numpy as np\n",
        "import pandas as pd\n",
        "import tensorflow as tf\n",
        "from collections import defaultdict\n",
        "from sklearn.model_selection import train_test_split\n",
        "from keras import backend as K\n",
        "from keras import regularizers\n",
        "from keras.preprocessing.sequence import pad_sequences\n",
        "from keras.initializers import Constant\n",
        "from keras.models import Model\n",
        "from keras.layers import Input, Embedding, LSTM, Softmax, Flatten, Dropout\n",
        "from keras.layers import Bidirectional, Dense, Dot, Lambda, LeakyReLU\n",
        "from keras.callbacks import ModelCheckpoint, EarlyStopping, ReduceLROnPlateau\n",
        "\n",
        "jieba.setLogLevel(20)"
      ],
      "execution_count": 1,
      "outputs": [
        {
          "output_type": "stream",
          "text": [
            "Using TensorFlow backend.\n"
          ],
          "name": "stderr"
        }
      ]
    },
    {
      "metadata": {
        "id": "RzOISKXsIzYz",
        "colab_type": "text"
      },
      "cell_type": "markdown",
      "source": [
        "## 1 Data"
      ]
    },
    {
      "metadata": {
        "id": "TS5Ch-8MP2uU",
        "colab_type": "text"
      },
      "cell_type": "markdown",
      "source": [
        "Model input is a sentence (here a user comment).\n",
        "\n",
        "Output is a 40-dimensional vector representing the probability of 4 sentiment polarities for 10 aspects.\n",
        "\n",
        "Sentiment polarities are \"无关\" (Irrelevant), 0 (Neutral), 1 (Positive), -1 (Negative)."
      ]
    },
    {
      "metadata": {
        "id": "dtKeQDuiPwqx",
        "colab_type": "code",
        "colab": {}
      },
      "cell_type": "code",
      "source": [
        "senti_label_id  = {'无关': 0, 0: 1, 1: 2, -1: 3}\n",
        "aspect_label_id = {'动力': 0, '价格': 1, '内饰': 2, '配置': 3, '安全性': 4, \n",
        "                   '外观': 5, '操控': 6, '油耗': 7, '空间': 8, '舒适性': 9}\n",
        "\n",
        "N_SENTI, N_ASPECT = len(senti_label_id), len(aspect_label_id)"
      ],
      "execution_count": 0,
      "outputs": []
    },
    {
      "metadata": {
        "id": "ta92tyMrXlOY",
        "colab_type": "text"
      },
      "cell_type": "markdown",
      "source": [
        "Zero-padding sentence for batch training."
      ]
    },
    {
      "metadata": {
        "id": "3-O6vu2yP1Ke",
        "colab_type": "code",
        "colab": {}
      },
      "cell_type": "code",
      "source": [
        "Tx = 256"
      ],
      "execution_count": 0,
      "outputs": []
    },
    {
      "metadata": {
        "id": "ksWiw7bIXpte",
        "colab_type": "text"
      },
      "cell_type": "markdown",
      "source": [
        "Load word embedding and traing data."
      ]
    },
    {
      "metadata": {
        "id": "4mR2Tv6NXwn_",
        "colab_type": "code",
        "colab": {}
      },
      "cell_type": "code",
      "source": [
        "word_index, embedding_matrix = pickle.load(open('embeddings.p', 'rb' ))"
      ],
      "execution_count": 0,
      "outputs": []
    },
    {
      "metadata": {
        "id": "Cfxbn7Q092qL",
        "colab_type": "code",
        "colab": {}
      },
      "cell_type": "code",
      "source": [
        "def preprocess(text):\n",
        "    \"\"\"Sentence tokenization.\"\"\"\n",
        "    words = jieba.lcut_for_search(text)\n",
        "    return [word_index[w] for w in words if w in word_index.keys()]\n",
        "\n",
        "def get_training_data():\n",
        "    \"\"\"Format training data to model style.\"\"\"\n",
        "    X_y = defaultdict(lambda: [1, 0, 0, 0] * N_ASPECT)\n",
        "    for e in pd.read_csv('train.csv').itertuples():\n",
        "        i = aspect_label_id[e.subject] * N_SENTI\n",
        "        X_y[e.content][i] = 0\n",
        "        X_y[e.content][i + senti_label_id[e.sentiment_value]] = 1\n",
        "    X, y = [], []\n",
        "    for content, senti in X_y.items():\n",
        "        X.append(preprocess(content))\n",
        "        y.append(senti)\n",
        "    return pad_sequences(X, maxlen=Tx), np.array(y)"
      ],
      "execution_count": 0,
      "outputs": []
    },
    {
      "metadata": {
        "id": "myeWyIRXYHfg",
        "colab_type": "text"
      },
      "cell_type": "markdown",
      "source": [
        "Split to training, validation and test sets.\n",
        "\n",
        "Using K-fold cross-validation generally increases model performance, but we only use the holdout method here considering the limited time."
      ]
    },
    {
      "metadata": {
        "id": "R9v1YE-cYE04",
        "colab_type": "code",
        "colab": {
          "base_uri": "https://localhost:8080/",
          "height": 33
        },
        "outputId": "a4a44a37-9766-4392-fda7-d55ba0249d7b"
      },
      "cell_type": "code",
      "source": [
        "X_train, X_val, y_train, y_val = train_test_split(\n",
        "    *get_training_data(), test_size=0.2, random_state=666)\n",
        "X_test, X_val, y_test, y_val = train_test_split(\n",
        "    X_val, y_val, test_size=0.5, random_state=233)\n",
        "\n",
        "print(len(y_train), len(y_val), len(y_test))"
      ],
      "execution_count": 6,
      "outputs": [
        {
          "output_type": "stream",
          "text": [
            "8523 1066 1065\n"
          ],
          "name": "stdout"
        }
      ]
    },
    {
      "metadata": {
        "id": "IcXRiGK2bIIB",
        "colab_type": "text"
      },
      "cell_type": "markdown",
      "source": [
        "## 2 Model"
      ]
    },
    {
      "metadata": {
        "id": "lH0nUEUmc0fo",
        "colab_type": "text"
      },
      "cell_type": "markdown",
      "source": [
        "### 2.1 Architecture"
      ]
    },
    {
      "metadata": {
        "id": "0cV2MJ0MbJQA",
        "colab_type": "code",
        "colab": {}
      },
      "cell_type": "code",
      "source": [
        "n_a = 100\n",
        "drop_rate = 0.5\n",
        "reg_rate = 0.001\n",
        "\n",
        "def model():\n",
        "    sen = Input(shape=(Tx,), name='Sentence')\n",
        "    asp = Lambda(lambda x: tf.constant([[word_index[w] for w in\n",
        "                                         ['动力', '价格', '内饰', '配置',\n",
        "                                          '安全', '外观', '操控', '油耗',\n",
        "                                          '空间', '舒适']]]),\n",
        "                 name='Aspect')([])\n",
        "    \n",
        "    bs = K.shape(sen)[0]\n",
        "    l = regularizers.l2(reg_rate)\n",
        "    E = Embedding(*embedding_matrix.shape, trainable=False,\n",
        "                  embeddings_initializer=Constant(embedding_matrix),\n",
        "                  name='WordVec')\n",
        "    \n",
        "    asen = Bidirectional(LSTM(n_a, return_sequences=True, dropout=drop_rate,\n",
        "                              recurrent_dropout=drop_rate),\n",
        "                         name='BLSTM-Sen')(E(sen))\n",
        "    \n",
        "    aasp = Bidirectional(LSTM(n_a, return_sequences=True, dropout=drop_rate,\n",
        "                              recurrent_dropout=drop_rate),\n",
        "                         name='BLSTM-Asp')(E(asp))\n",
        "    aasp = Lambda(lambda a: tf.reshape(tf.tile(tf.reshape(a, (-1,)), [bs]),\n",
        "                                       (bs, 10, 200)),\n",
        "                  name='Repeat')(aasp)\n",
        "    \n",
        "    X = Dot(-1, name='Project')([asen, aasp])\n",
        "    a = Softmax(1, name='Within-Aspect')(X)\n",
        "    \n",
        "    X = Dot(1, name='Attention')([a, asen])\n",
        "    \n",
        "    X = Dropout(drop_rate, name='Dropout')(X)\n",
        "    X = Flatten(name='Flatten')(X)\n",
        "    \n",
        "    X = Dense(512, kernel_regularizer=l, name='Asp-Senti-Clf-1')(X)\n",
        "    X = LeakyReLU(0.01, name='LeakyReLU')(X)\n",
        "    \n",
        "    X = Dense(40, kernel_regularizer=l, name='Asp-Senti-Clf-2')(X)\n",
        "    X = Lambda(lambda x: tf.reshape(K.softmax(tf.reshape(x, (bs, 10, 4))),\n",
        "                                    (bs, 40)), name='Aspect-Softmax')(X)\n",
        "    \n",
        "    return Model(inputs=sen, outputs=X)\n",
        "\n",
        "model = model()"
      ],
      "execution_count": 0,
      "outputs": []
    },
    {
      "metadata": {
        "id": "IyPk8FO6it-z",
        "colab_type": "code",
        "colab": {
          "base_uri": "https://localhost:8080/",
          "height": 686
        },
        "outputId": "f7228e83-6f40-4dc0-a944-7ebd060838a0"
      },
      "cell_type": "code",
      "source": [
        "model.summary()"
      ],
      "execution_count": 8,
      "outputs": [
        {
          "output_type": "stream",
          "text": [
            "__________________________________________________________________________________________________\n",
            "Layer (type)                    Output Shape         Param #     Connected to                     \n",
            "==================================================================================================\n",
            "Sentence (InputLayer)           (None, 256)          0                                            \n",
            "__________________________________________________________________________________________________\n",
            "Aspect (Lambda)                 (1, 10)              0                                            \n",
            "__________________________________________________________________________________________________\n",
            "WordVec (Embedding)             multiple             4287400     Sentence[0][0]                   \n",
            "                                                                 Aspect[0][0]                     \n",
            "__________________________________________________________________________________________________\n",
            "BLSTM-Asp (Bidirectional)       (1, 10, 200)         240800      WordVec[1][0]                    \n",
            "__________________________________________________________________________________________________\n",
            "BLSTM-Sen (Bidirectional)       (None, 256, 200)     240800      WordVec[0][0]                    \n",
            "__________________________________________________________________________________________________\n",
            "Repeat (Lambda)                 (None, 10, 200)      0           BLSTM-Asp[0][0]                  \n",
            "__________________________________________________________________________________________________\n",
            "Project (Dot)                   (None, 256, 10)      0           BLSTM-Sen[0][0]                  \n",
            "                                                                 Repeat[0][0]                     \n",
            "__________________________________________________________________________________________________\n",
            "Within-Aspect (Softmax)         (None, 256, 10)      0           Project[0][0]                    \n",
            "__________________________________________________________________________________________________\n",
            "Attention (Dot)                 (None, 10, 200)      0           Within-Aspect[0][0]              \n",
            "                                                                 BLSTM-Sen[0][0]                  \n",
            "__________________________________________________________________________________________________\n",
            "Dropout (Dropout)               (None, 10, 200)      0           Attention[0][0]                  \n",
            "__________________________________________________________________________________________________\n",
            "Flatten (Flatten)               (None, 2000)         0           Dropout[0][0]                    \n",
            "__________________________________________________________________________________________________\n",
            "Asp-Senti-Clf-1 (Dense)         (None, 512)          1024512     Flatten[0][0]                    \n",
            "__________________________________________________________________________________________________\n",
            "LeakyReLU (LeakyReLU)           (None, 512)          0           Asp-Senti-Clf-1[0][0]            \n",
            "__________________________________________________________________________________________________\n",
            "Asp-Senti-Clf-2 (Dense)         (None, 40)           20520       LeakyReLU[0][0]                  \n",
            "__________________________________________________________________________________________________\n",
            "Aspect-Softmax (Lambda)         (None, 40)           0           Asp-Senti-Clf-2[0][0]            \n",
            "==================================================================================================\n",
            "Total params: 5,814,032\n",
            "Trainable params: 1,526,632\n",
            "Non-trainable params: 4,287,400\n",
            "__________________________________________________________________________________________________\n"
          ],
          "name": "stdout"
        }
      ]
    },
    {
      "metadata": {
        "id": "QKPFOsirmmso",
        "colab_type": "code",
        "colab": {
          "base_uri": "https://localhost:8080/",
          "height": 1422
        },
        "outputId": "2c53927b-ca6b-4254-a6d9-ff75bf2b6cb0"
      },
      "cell_type": "code",
      "source": [
        "from IPython.display import SVG\n",
        "from keras.utils.vis_utils import model_to_dot\n",
        "\n",
        "SVG(model_to_dot(model, show_shapes=True).create(prog='dot', format='svg'))"
      ],
      "execution_count": 9,
      "outputs": [
        {
          "output_type": "execute_result",
          "data": {
            "text/plain": [
              "<IPython.core.display.SVG object>"
            ],
            "image/svg+xml": "<svg height=\"1051pt\" viewBox=\"0.00 0.00 748.00 1051.00\" width=\"748pt\" xmlns=\"http://www.w3.org/2000/svg\" xmlns:xlink=\"http://www.w3.org/1999/xlink\">\n<g class=\"graph\" id=\"graph0\" transform=\"scale(1 1) rotate(0) translate(4 1047)\">\n<title>G</title>\n<polygon fill=\"#ffffff\" points=\"-4,4 -4,-1047 744,-1047 744,4 -4,4\" stroke=\"transparent\"/>\n<!-- 140423247026440 -->\n<g class=\"node\" id=\"node1\">\n<title>140423247026440</title>\n<polygon fill=\"none\" points=\"50,-996.5 50,-1042.5 334,-1042.5 334,-996.5 50,-996.5\" stroke=\"#000000\"/>\n<text fill=\"#000000\" font-family=\"Times,serif\" font-size=\"14.00\" text-anchor=\"middle\" x=\"119.5\" y=\"-1015.8\">Sentence: InputLayer</text>\n<polyline fill=\"none\" points=\"189,-996.5 189,-1042.5 \" stroke=\"#000000\"/>\n<text fill=\"#000000\" font-family=\"Times,serif\" font-size=\"14.00\" text-anchor=\"middle\" x=\"218\" y=\"-1027.3\">input:</text>\n<polyline fill=\"none\" points=\"189,-1019.5 247,-1019.5 \" stroke=\"#000000\"/>\n<text fill=\"#000000\" font-family=\"Times,serif\" font-size=\"14.00\" text-anchor=\"middle\" x=\"218\" y=\"-1004.3\">output:</text>\n<polyline fill=\"none\" points=\"247,-996.5 247,-1042.5 \" stroke=\"#000000\"/>\n<text fill=\"#000000\" font-family=\"Times,serif\" font-size=\"14.00\" text-anchor=\"middle\" x=\"290.5\" y=\"-1027.3\">(None, 256)</text>\n<polyline fill=\"none\" points=\"247,-1019.5 334,-1019.5 \" stroke=\"#000000\"/>\n<text fill=\"#000000\" font-family=\"Times,serif\" font-size=\"14.00\" text-anchor=\"middle\" x=\"290.5\" y=\"-1004.3\">(None, 256)</text>\n</g>\n<!-- 140422962891912 -->\n<g class=\"node\" id=\"node3\">\n<title>140422962891912</title>\n<polygon fill=\"none\" points=\"194.5,-913.5 194.5,-959.5 461.5,-959.5 461.5,-913.5 194.5,-913.5\" stroke=\"#000000\"/>\n<text fill=\"#000000\" font-family=\"Times,serif\" font-size=\"14.00\" text-anchor=\"middle\" x=\"267\" y=\"-932.8\">WordVec: Embedding</text>\n<polyline fill=\"none\" points=\"339.5,-913.5 339.5,-959.5 \" stroke=\"#000000\"/>\n<text fill=\"#000000\" font-family=\"Times,serif\" font-size=\"14.00\" text-anchor=\"middle\" x=\"368.5\" y=\"-944.3\">input:</text>\n<polyline fill=\"none\" points=\"339.5,-936.5 397.5,-936.5 \" stroke=\"#000000\"/>\n<text fill=\"#000000\" font-family=\"Times,serif\" font-size=\"14.00\" text-anchor=\"middle\" x=\"368.5\" y=\"-921.3\">output:</text>\n<polyline fill=\"none\" points=\"397.5,-913.5 397.5,-959.5 \" stroke=\"#000000\"/>\n<text fill=\"#000000\" font-family=\"Times,serif\" font-size=\"14.00\" text-anchor=\"middle\" x=\"429.5\" y=\"-944.3\">multiple</text>\n<polyline fill=\"none\" points=\"397.5,-936.5 461.5,-936.5 \" stroke=\"#000000\"/>\n<text fill=\"#000000\" font-family=\"Times,serif\" font-size=\"14.00\" text-anchor=\"middle\" x=\"429.5\" y=\"-921.3\">multiple</text>\n</g>\n<!-- 140423247026440&#45;&gt;140422962891912 -->\n<g class=\"edge\" id=\"edge1\">\n<title>140423247026440-&gt;140422962891912</title>\n<path d=\"M229.8836,-996.3799C245.8128,-986.6583 264.5052,-975.2505 281.2771,-965.0147\" fill=\"none\" stroke=\"#000000\"/>\n<polygon fill=\"#000000\" points=\"283.1353,-967.9811 289.8479,-959.784 279.4886,-962.0059 283.1353,-967.9811\" stroke=\"#000000\"/>\n</g>\n<!-- 140422970089712 -->\n<g class=\"node\" id=\"node2\">\n<title>140422970089712</title>\n<polygon fill=\"none\" points=\"352,-996.5 352,-1042.5 576,-1042.5 576,-996.5 352,-996.5\" stroke=\"#000000\"/>\n<text fill=\"#000000\" font-family=\"Times,serif\" font-size=\"14.00\" text-anchor=\"middle\" x=\"407\" y=\"-1015.8\">Aspect: Lambda</text>\n<polyline fill=\"none\" points=\"462,-996.5 462,-1042.5 \" stroke=\"#000000\"/>\n<text fill=\"#000000\" font-family=\"Times,serif\" font-size=\"14.00\" text-anchor=\"middle\" x=\"491\" y=\"-1027.3\">input:</text>\n<polyline fill=\"none\" points=\"462,-1019.5 520,-1019.5 \" stroke=\"#000000\"/>\n<text fill=\"#000000\" font-family=\"Times,serif\" font-size=\"14.00\" text-anchor=\"middle\" x=\"491\" y=\"-1004.3\">output:</text>\n<polyline fill=\"none\" points=\"520,-996.5 520,-1042.5 \" stroke=\"#000000\"/>\n<text fill=\"#000000\" font-family=\"Times,serif\" font-size=\"14.00\" text-anchor=\"middle\" x=\"548\" y=\"-1027.3\">[]</text>\n<polyline fill=\"none\" points=\"520,-1019.5 576,-1019.5 \" stroke=\"#000000\"/>\n<text fill=\"#000000\" font-family=\"Times,serif\" font-size=\"14.00\" text-anchor=\"middle\" x=\"548\" y=\"-1004.3\">(1, 10)</text>\n</g>\n<!-- 140422970089712&#45;&gt;140422962891912 -->\n<g class=\"edge\" id=\"edge2\">\n<title>140422970089712-&gt;140422962891912</title>\n<path d=\"M426.1164,-996.3799C410.1872,-986.6583 391.4948,-975.2505 374.7229,-965.0147\" fill=\"none\" stroke=\"#000000\"/>\n<polygon fill=\"#000000\" points=\"376.5114,-962.0059 366.1521,-959.784 372.8647,-967.9811 376.5114,-962.0059\" stroke=\"#000000\"/>\n</g>\n<!-- 140422963155240 -->\n<g class=\"node\" id=\"node4\">\n<title>140422963155240</title>\n<polygon fill=\"none\" points=\"4,-830.5 4,-876.5 418,-876.5 418,-830.5 4,-830.5\" stroke=\"#000000\"/>\n<text fill=\"#000000\" font-family=\"Times,serif\" font-size=\"14.00\" text-anchor=\"middle\" x=\"139\" y=\"-849.8\">BLSTM-Asp(lstm_2): Bidirectional(LSTM)</text>\n<polyline fill=\"none\" points=\"274,-830.5 274,-876.5 \" stroke=\"#000000\"/>\n<text fill=\"#000000\" font-family=\"Times,serif\" font-size=\"14.00\" text-anchor=\"middle\" x=\"303\" y=\"-861.3\">input:</text>\n<polyline fill=\"none\" points=\"274,-853.5 332,-853.5 \" stroke=\"#000000\"/>\n<text fill=\"#000000\" font-family=\"Times,serif\" font-size=\"14.00\" text-anchor=\"middle\" x=\"303\" y=\"-838.3\">output:</text>\n<polyline fill=\"none\" points=\"332,-830.5 332,-876.5 \" stroke=\"#000000\"/>\n<text fill=\"#000000\" font-family=\"Times,serif\" font-size=\"14.00\" text-anchor=\"middle\" x=\"375\" y=\"-861.3\">(1, 10, 200)</text>\n<polyline fill=\"none\" points=\"332,-853.5 418,-853.5 \" stroke=\"#000000\"/>\n<text fill=\"#000000\" font-family=\"Times,serif\" font-size=\"14.00\" text-anchor=\"middle\" x=\"375\" y=\"-838.3\">(1, 10, 200)</text>\n</g>\n<!-- 140422962891912&#45;&gt;140422963155240 -->\n<g class=\"edge\" id=\"edge3\">\n<title>140422962891912-&gt;140422963155240</title>\n<path d=\"M295.409,-913.3799C281.9566,-903.8367 266.2135,-892.6686 251.9913,-882.5793\" fill=\"none\" stroke=\"#000000\"/>\n<polygon fill=\"#000000\" points=\"254.0033,-879.7154 243.822,-876.784 249.9531,-885.4247 254.0033,-879.7154\" stroke=\"#000000\"/>\n</g>\n<!-- 140422969844064 -->\n<g class=\"node\" id=\"node5\">\n<title>140422969844064</title>\n<polygon fill=\"none\" points=\"296,-747.5 296,-793.5 740,-793.5 740,-747.5 296,-747.5\" stroke=\"#000000\"/>\n<text fill=\"#000000\" font-family=\"Times,serif\" font-size=\"14.00\" text-anchor=\"middle\" x=\"430.5\" y=\"-766.8\">BLSTM-Sen(lstm_1): Bidirectional(LSTM)</text>\n<polyline fill=\"none\" points=\"565,-747.5 565,-793.5 \" stroke=\"#000000\"/>\n<text fill=\"#000000\" font-family=\"Times,serif\" font-size=\"14.00\" text-anchor=\"middle\" x=\"594\" y=\"-778.3\">input:</text>\n<polyline fill=\"none\" points=\"565,-770.5 623,-770.5 \" stroke=\"#000000\"/>\n<text fill=\"#000000\" font-family=\"Times,serif\" font-size=\"14.00\" text-anchor=\"middle\" x=\"594\" y=\"-755.3\">output:</text>\n<polyline fill=\"none\" points=\"623,-747.5 623,-793.5 \" stroke=\"#000000\"/>\n<text fill=\"#000000\" font-family=\"Times,serif\" font-size=\"14.00\" text-anchor=\"middle\" x=\"681.5\" y=\"-778.3\">(None, 256, 200)</text>\n<polyline fill=\"none\" points=\"623,-770.5 740,-770.5 \" stroke=\"#000000\"/>\n<text fill=\"#000000\" font-family=\"Times,serif\" font-size=\"14.00\" text-anchor=\"middle\" x=\"681.5\" y=\"-755.3\">(None, 256, 200)</text>\n</g>\n<!-- 140422962891912&#45;&gt;140422969844064 -->\n<g class=\"edge\" id=\"edge4\">\n<title>140422962891912-&gt;140422969844064</title>\n<path d=\"M373.4258,-913.3003C391.0141,-903.2946 410.776,-890.7331 427,-877 453.3358,-854.7076 478.4304,-824.414 495.571,-801.8345\" fill=\"none\" stroke=\"#000000\"/>\n<polygon fill=\"#000000\" points=\"498.5499,-803.6954 501.7368,-793.5912 492.9444,-799.5026 498.5499,-803.6954\" stroke=\"#000000\"/>\n</g>\n<!-- 140422913996672 -->\n<g class=\"node\" id=\"node6\">\n<title>140422913996672</title>\n<polygon fill=\"none\" points=\"0,-747.5 0,-793.5 278,-793.5 278,-747.5 0,-747.5\" stroke=\"#000000\"/>\n<text fill=\"#000000\" font-family=\"Times,serif\" font-size=\"14.00\" text-anchor=\"middle\" x=\"55\" y=\"-766.8\">Repeat: Lambda</text>\n<polyline fill=\"none\" points=\"110,-747.5 110,-793.5 \" stroke=\"#000000\"/>\n<text fill=\"#000000\" font-family=\"Times,serif\" font-size=\"14.00\" text-anchor=\"middle\" x=\"139\" y=\"-778.3\">input:</text>\n<polyline fill=\"none\" points=\"110,-770.5 168,-770.5 \" stroke=\"#000000\"/>\n<text fill=\"#000000\" font-family=\"Times,serif\" font-size=\"14.00\" text-anchor=\"middle\" x=\"139\" y=\"-755.3\">output:</text>\n<polyline fill=\"none\" points=\"168,-747.5 168,-793.5 \" stroke=\"#000000\"/>\n<text fill=\"#000000\" font-family=\"Times,serif\" font-size=\"14.00\" text-anchor=\"middle\" x=\"223\" y=\"-778.3\">(1, 10, 200)</text>\n<polyline fill=\"none\" points=\"168,-770.5 278,-770.5 \" stroke=\"#000000\"/>\n<text fill=\"#000000\" font-family=\"Times,serif\" font-size=\"14.00\" text-anchor=\"middle\" x=\"223\" y=\"-755.3\">(None, 10, 200)</text>\n</g>\n<!-- 140422963155240&#45;&gt;140422913996672 -->\n<g class=\"edge\" id=\"edge5\">\n<title>140422963155240-&gt;140422913996672</title>\n<path d=\"M190.944,-830.3799C183.2072,-821.461 174.2391,-811.1229 165.9545,-801.5725\" fill=\"none\" stroke=\"#000000\"/>\n<polygon fill=\"#000000\" points=\"168.3948,-799.0444 159.1982,-793.784 163.1071,-803.6314 168.3948,-799.0444\" stroke=\"#000000\"/>\n</g>\n<!-- 140422855734328 -->\n<g class=\"node\" id=\"node7\">\n<title>140422855734328</title>\n<polygon fill=\"none\" points=\"118.5,-664.5 118.5,-710.5 489.5,-710.5 489.5,-664.5 118.5,-664.5\" stroke=\"#000000\"/>\n<text fill=\"#000000\" font-family=\"Times,serif\" font-size=\"14.00\" text-anchor=\"middle\" x=\"161.5\" y=\"-683.8\">Project: Dot</text>\n<polyline fill=\"none\" points=\"204.5,-664.5 204.5,-710.5 \" stroke=\"#000000\"/>\n<text fill=\"#000000\" font-family=\"Times,serif\" font-size=\"14.00\" text-anchor=\"middle\" x=\"233.5\" y=\"-695.3\">input:</text>\n<polyline fill=\"none\" points=\"204.5,-687.5 262.5,-687.5 \" stroke=\"#000000\"/>\n<text fill=\"#000000\" font-family=\"Times,serif\" font-size=\"14.00\" text-anchor=\"middle\" x=\"233.5\" y=\"-672.3\">output:</text>\n<polyline fill=\"none\" points=\"262.5,-664.5 262.5,-710.5 \" stroke=\"#000000\"/>\n<text fill=\"#000000\" font-family=\"Times,serif\" font-size=\"14.00\" text-anchor=\"middle\" x=\"376\" y=\"-695.3\">[(None, 256, 200), (None, 10, 200)]</text>\n<polyline fill=\"none\" points=\"262.5,-687.5 489.5,-687.5 \" stroke=\"#000000\"/>\n<text fill=\"#000000\" font-family=\"Times,serif\" font-size=\"14.00\" text-anchor=\"middle\" x=\"376\" y=\"-672.3\">(None, 256, 10)</text>\n</g>\n<!-- 140422969844064&#45;&gt;140422855734328 -->\n<g class=\"edge\" id=\"edge6\">\n<title>140422969844064-&gt;140422855734328</title>\n<path d=\"M458.6733,-747.4901C432.1173,-737.1904 400.6368,-724.9806 373.0307,-714.2736\" fill=\"none\" stroke=\"#000000\"/>\n<polygon fill=\"#000000\" points=\"374.0311,-710.9076 363.4421,-710.5547 371.4998,-717.4339 374.0311,-710.9076\" stroke=\"#000000\"/>\n</g>\n<!-- 140422913997624 -->\n<g class=\"node\" id=\"node9\">\n<title>140422913997624</title>\n<polygon fill=\"none\" points=\"218.5,-498.5 218.5,-544.5 603.5,-544.5 603.5,-498.5 218.5,-498.5\" stroke=\"#000000\"/>\n<text fill=\"#000000\" font-family=\"Times,serif\" font-size=\"14.00\" text-anchor=\"middle\" x=\"268.5\" y=\"-517.8\">Attention: Dot</text>\n<polyline fill=\"none\" points=\"318.5,-498.5 318.5,-544.5 \" stroke=\"#000000\"/>\n<text fill=\"#000000\" font-family=\"Times,serif\" font-size=\"14.00\" text-anchor=\"middle\" x=\"347.5\" y=\"-529.3\">input:</text>\n<polyline fill=\"none\" points=\"318.5,-521.5 376.5,-521.5 \" stroke=\"#000000\"/>\n<text fill=\"#000000\" font-family=\"Times,serif\" font-size=\"14.00\" text-anchor=\"middle\" x=\"347.5\" y=\"-506.3\">output:</text>\n<polyline fill=\"none\" points=\"376.5,-498.5 376.5,-544.5 \" stroke=\"#000000\"/>\n<text fill=\"#000000\" font-family=\"Times,serif\" font-size=\"14.00\" text-anchor=\"middle\" x=\"490\" y=\"-529.3\">[(None, 256, 10), (None, 256, 200)]</text>\n<polyline fill=\"none\" points=\"376.5,-521.5 603.5,-521.5 \" stroke=\"#000000\"/>\n<text fill=\"#000000\" font-family=\"Times,serif\" font-size=\"14.00\" text-anchor=\"middle\" x=\"490\" y=\"-506.3\">(None, 10, 200)</text>\n</g>\n<!-- 140422969844064&#45;&gt;140422913997624 -->\n<g class=\"edge\" id=\"edge10\">\n<title>140422969844064-&gt;140422913997624</title>\n<path d=\"M519.2199,-747.4239C520.1441,-709.8468 517.4865,-634.2846 486,-581 479.1947,-569.4833 469.2552,-559.327 458.825,-550.8141\" fill=\"none\" stroke=\"#000000\"/>\n<polygon fill=\"#000000\" points=\"460.8549,-547.9597 450.7971,-544.6292 456.5827,-553.5049 460.8549,-547.9597\" stroke=\"#000000\"/>\n</g>\n<!-- 140422913996672&#45;&gt;140422855734328 -->\n<g class=\"edge\" id=\"edge7\">\n<title>140422913996672-&gt;140422855734328</title>\n<path d=\"M184.9617,-747.3799C204.814,-737.3936 228.2036,-725.6279 248.9713,-715.1811\" fill=\"none\" stroke=\"#000000\"/>\n<polygon fill=\"#000000\" points=\"250.6383,-718.2605 257.9989,-710.6399 247.4926,-712.0071 250.6383,-718.2605\" stroke=\"#000000\"/>\n</g>\n<!-- 140422855336624 -->\n<g class=\"node\" id=\"node8\">\n<title>140422855336624</title>\n<polygon fill=\"none\" points=\"154.5,-581.5 154.5,-627.5 477.5,-627.5 477.5,-581.5 154.5,-581.5\" stroke=\"#000000\"/>\n<text fill=\"#000000\" font-family=\"Times,serif\" font-size=\"14.00\" text-anchor=\"middle\" x=\"232\" y=\"-600.8\">Within-Aspect: Softmax</text>\n<polyline fill=\"none\" points=\"309.5,-581.5 309.5,-627.5 \" stroke=\"#000000\"/>\n<text fill=\"#000000\" font-family=\"Times,serif\" font-size=\"14.00\" text-anchor=\"middle\" x=\"338.5\" y=\"-612.3\">input:</text>\n<polyline fill=\"none\" points=\"309.5,-604.5 367.5,-604.5 \" stroke=\"#000000\"/>\n<text fill=\"#000000\" font-family=\"Times,serif\" font-size=\"14.00\" text-anchor=\"middle\" x=\"338.5\" y=\"-589.3\">output:</text>\n<polyline fill=\"none\" points=\"367.5,-581.5 367.5,-627.5 \" stroke=\"#000000\"/>\n<text fill=\"#000000\" font-family=\"Times,serif\" font-size=\"14.00\" text-anchor=\"middle\" x=\"422.5\" y=\"-612.3\">(None, 256, 10)</text>\n<polyline fill=\"none\" points=\"367.5,-604.5 477.5,-604.5 \" stroke=\"#000000\"/>\n<text fill=\"#000000\" font-family=\"Times,serif\" font-size=\"14.00\" text-anchor=\"middle\" x=\"422.5\" y=\"-589.3\">(None, 256, 10)</text>\n</g>\n<!-- 140422855734328&#45;&gt;140422855336624 -->\n<g class=\"edge\" id=\"edge8\">\n<title>140422855734328-&gt;140422855336624</title>\n<path d=\"M307.3427,-664.3799C308.529,-656.1745 309.889,-646.7679 311.1742,-637.8786\" fill=\"none\" stroke=\"#000000\"/>\n<polygon fill=\"#000000\" points=\"314.6666,-638.1819 312.6336,-627.784 307.7387,-637.1803 314.6666,-638.1819\" stroke=\"#000000\"/>\n</g>\n<!-- 140422855336624&#45;&gt;140422913997624 -->\n<g class=\"edge\" id=\"edge9\">\n<title>140422855336624-&gt;140422913997624</title>\n<path d=\"M342.4628,-581.3799C353.0794,-572.1043 365.4532,-561.2936 376.7423,-551.4304\" fill=\"none\" stroke=\"#000000\"/>\n<polygon fill=\"#000000\" points=\"379.1217,-553.9992 384.3496,-544.784 374.5161,-548.7277 379.1217,-553.9992\" stroke=\"#000000\"/>\n</g>\n<!-- 140422913997680 -->\n<g class=\"node\" id=\"node10\">\n<title>140422913997680</title>\n<polygon fill=\"none\" points=\"266,-415.5 266,-461.5 556,-461.5 556,-415.5 266,-415.5\" stroke=\"#000000\"/>\n<text fill=\"#000000\" font-family=\"Times,serif\" font-size=\"14.00\" text-anchor=\"middle\" x=\"327\" y=\"-434.8\">Dropout: Dropout</text>\n<polyline fill=\"none\" points=\"388,-415.5 388,-461.5 \" stroke=\"#000000\"/>\n<text fill=\"#000000\" font-family=\"Times,serif\" font-size=\"14.00\" text-anchor=\"middle\" x=\"417\" y=\"-446.3\">input:</text>\n<polyline fill=\"none\" points=\"388,-438.5 446,-438.5 \" stroke=\"#000000\"/>\n<text fill=\"#000000\" font-family=\"Times,serif\" font-size=\"14.00\" text-anchor=\"middle\" x=\"417\" y=\"-423.3\">output:</text>\n<polyline fill=\"none\" points=\"446,-415.5 446,-461.5 \" stroke=\"#000000\"/>\n<text fill=\"#000000\" font-family=\"Times,serif\" font-size=\"14.00\" text-anchor=\"middle\" x=\"501\" y=\"-446.3\">(None, 10, 200)</text>\n<polyline fill=\"none\" points=\"446,-438.5 556,-438.5 \" stroke=\"#000000\"/>\n<text fill=\"#000000\" font-family=\"Times,serif\" font-size=\"14.00\" text-anchor=\"middle\" x=\"501\" y=\"-423.3\">(None, 10, 200)</text>\n</g>\n<!-- 140422913997624&#45;&gt;140422913997680 -->\n<g class=\"edge\" id=\"edge11\">\n<title>140422913997624-&gt;140422913997680</title>\n<path d=\"M411,-498.3799C411,-490.1745 411,-480.7679 411,-471.8786\" fill=\"none\" stroke=\"#000000\"/>\n<polygon fill=\"#000000\" points=\"414.5001,-471.784 411,-461.784 407.5001,-471.784 414.5001,-471.784\" stroke=\"#000000\"/>\n</g>\n<!-- 140422913997512 -->\n<g class=\"node\" id=\"node11\">\n<title>140422913997512</title>\n<polygon fill=\"none\" points=\"276,-332.5 276,-378.5 546,-378.5 546,-332.5 276,-332.5\" stroke=\"#000000\"/>\n<text fill=\"#000000\" font-family=\"Times,serif\" font-size=\"14.00\" text-anchor=\"middle\" x=\"327\" y=\"-351.8\">Flatten: Flatten</text>\n<polyline fill=\"none\" points=\"378,-332.5 378,-378.5 \" stroke=\"#000000\"/>\n<text fill=\"#000000\" font-family=\"Times,serif\" font-size=\"14.00\" text-anchor=\"middle\" x=\"407\" y=\"-363.3\">input:</text>\n<polyline fill=\"none\" points=\"378,-355.5 436,-355.5 \" stroke=\"#000000\"/>\n<text fill=\"#000000\" font-family=\"Times,serif\" font-size=\"14.00\" text-anchor=\"middle\" x=\"407\" y=\"-340.3\">output:</text>\n<polyline fill=\"none\" points=\"436,-332.5 436,-378.5 \" stroke=\"#000000\"/>\n<text fill=\"#000000\" font-family=\"Times,serif\" font-size=\"14.00\" text-anchor=\"middle\" x=\"491\" y=\"-363.3\">(None, 10, 200)</text>\n<polyline fill=\"none\" points=\"436,-355.5 546,-355.5 \" stroke=\"#000000\"/>\n<text fill=\"#000000\" font-family=\"Times,serif\" font-size=\"14.00\" text-anchor=\"middle\" x=\"491\" y=\"-340.3\">(None, 2000)</text>\n</g>\n<!-- 140422913997680&#45;&gt;140422913997512 -->\n<g class=\"edge\" id=\"edge12\">\n<title>140422913997680-&gt;140422913997512</title>\n<path d=\"M411,-415.3799C411,-407.1745 411,-397.7679 411,-388.8786\" fill=\"none\" stroke=\"#000000\"/>\n<polygon fill=\"#000000\" points=\"414.5001,-388.784 411,-378.784 407.5001,-388.784 414.5001,-388.784\" stroke=\"#000000\"/>\n</g>\n<!-- 140422854051600 -->\n<g class=\"node\" id=\"node12\">\n<title>140422854051600</title>\n<polygon fill=\"none\" points=\"259,-249.5 259,-295.5 563,-295.5 563,-249.5 259,-249.5\" stroke=\"#000000\"/>\n<text fill=\"#000000\" font-family=\"Times,serif\" font-size=\"14.00\" text-anchor=\"middle\" x=\"334.5\" y=\"-268.8\">Asp-Senti-Clf-1: Dense</text>\n<polyline fill=\"none\" points=\"410,-249.5 410,-295.5 \" stroke=\"#000000\"/>\n<text fill=\"#000000\" font-family=\"Times,serif\" font-size=\"14.00\" text-anchor=\"middle\" x=\"439\" y=\"-280.3\">input:</text>\n<polyline fill=\"none\" points=\"410,-272.5 468,-272.5 \" stroke=\"#000000\"/>\n<text fill=\"#000000\" font-family=\"Times,serif\" font-size=\"14.00\" text-anchor=\"middle\" x=\"439\" y=\"-257.3\">output:</text>\n<polyline fill=\"none\" points=\"468,-249.5 468,-295.5 \" stroke=\"#000000\"/>\n<text fill=\"#000000\" font-family=\"Times,serif\" font-size=\"14.00\" text-anchor=\"middle\" x=\"515.5\" y=\"-280.3\">(None, 2000)</text>\n<polyline fill=\"none\" points=\"468,-272.5 563,-272.5 \" stroke=\"#000000\"/>\n<text fill=\"#000000\" font-family=\"Times,serif\" font-size=\"14.00\" text-anchor=\"middle\" x=\"515.5\" y=\"-257.3\">(None, 512)</text>\n</g>\n<!-- 140422913997512&#45;&gt;140422854051600 -->\n<g class=\"edge\" id=\"edge13\">\n<title>140422913997512-&gt;140422854051600</title>\n<path d=\"M411,-332.3799C411,-324.1745 411,-314.7679 411,-305.8786\" fill=\"none\" stroke=\"#000000\"/>\n<polygon fill=\"#000000\" points=\"414.5001,-305.784 411,-295.784 407.5001,-305.784 414.5001,-305.784\" stroke=\"#000000\"/>\n</g>\n<!-- 140422853762912 -->\n<g class=\"node\" id=\"node13\">\n<title>140422853762912</title>\n<polygon fill=\"none\" points=\"255,-166.5 255,-212.5 567,-212.5 567,-166.5 255,-166.5\" stroke=\"#000000\"/>\n<text fill=\"#000000\" font-family=\"Times,serif\" font-size=\"14.00\" text-anchor=\"middle\" x=\"338.5\" y=\"-185.8\">LeakyReLU: LeakyReLU</text>\n<polyline fill=\"none\" points=\"422,-166.5 422,-212.5 \" stroke=\"#000000\"/>\n<text fill=\"#000000\" font-family=\"Times,serif\" font-size=\"14.00\" text-anchor=\"middle\" x=\"451\" y=\"-197.3\">input:</text>\n<polyline fill=\"none\" points=\"422,-189.5 480,-189.5 \" stroke=\"#000000\"/>\n<text fill=\"#000000\" font-family=\"Times,serif\" font-size=\"14.00\" text-anchor=\"middle\" x=\"451\" y=\"-174.3\">output:</text>\n<polyline fill=\"none\" points=\"480,-166.5 480,-212.5 \" stroke=\"#000000\"/>\n<text fill=\"#000000\" font-family=\"Times,serif\" font-size=\"14.00\" text-anchor=\"middle\" x=\"523.5\" y=\"-197.3\">(None, 512)</text>\n<polyline fill=\"none\" points=\"480,-189.5 567,-189.5 \" stroke=\"#000000\"/>\n<text fill=\"#000000\" font-family=\"Times,serif\" font-size=\"14.00\" text-anchor=\"middle\" x=\"523.5\" y=\"-174.3\">(None, 512)</text>\n</g>\n<!-- 140422854051600&#45;&gt;140422853762912 -->\n<g class=\"edge\" id=\"edge14\">\n<title>140422854051600-&gt;140422853762912</title>\n<path d=\"M411,-249.3799C411,-241.1745 411,-231.7679 411,-222.8786\" fill=\"none\" stroke=\"#000000\"/>\n<polygon fill=\"#000000\" points=\"414.5001,-222.784 411,-212.784 407.5001,-222.784 414.5001,-222.784\" stroke=\"#000000\"/>\n</g>\n<!-- 140422853926304 -->\n<g class=\"node\" id=\"node14\">\n<title>140422853926304</title>\n<polygon fill=\"none\" points=\"263,-83.5 263,-129.5 559,-129.5 559,-83.5 263,-83.5\" stroke=\"#000000\"/>\n<text fill=\"#000000\" font-family=\"Times,serif\" font-size=\"14.00\" text-anchor=\"middle\" x=\"338.5\" y=\"-102.8\">Asp-Senti-Clf-2: Dense</text>\n<polyline fill=\"none\" points=\"414,-83.5 414,-129.5 \" stroke=\"#000000\"/>\n<text fill=\"#000000\" font-family=\"Times,serif\" font-size=\"14.00\" text-anchor=\"middle\" x=\"443\" y=\"-114.3\">input:</text>\n<polyline fill=\"none\" points=\"414,-106.5 472,-106.5 \" stroke=\"#000000\"/>\n<text fill=\"#000000\" font-family=\"Times,serif\" font-size=\"14.00\" text-anchor=\"middle\" x=\"443\" y=\"-91.3\">output:</text>\n<polyline fill=\"none\" points=\"472,-83.5 472,-129.5 \" stroke=\"#000000\"/>\n<text fill=\"#000000\" font-family=\"Times,serif\" font-size=\"14.00\" text-anchor=\"middle\" x=\"515.5\" y=\"-114.3\">(None, 512)</text>\n<polyline fill=\"none\" points=\"472,-106.5 559,-106.5 \" stroke=\"#000000\"/>\n<text fill=\"#000000\" font-family=\"Times,serif\" font-size=\"14.00\" text-anchor=\"middle\" x=\"515.5\" y=\"-91.3\">(None, 40)</text>\n</g>\n<!-- 140422853762912&#45;&gt;140422853926304 -->\n<g class=\"edge\" id=\"edge15\">\n<title>140422853762912-&gt;140422853926304</title>\n<path d=\"M411,-166.3799C411,-158.1745 411,-148.7679 411,-139.8786\" fill=\"none\" stroke=\"#000000\"/>\n<polygon fill=\"#000000\" points=\"414.5001,-139.784 411,-129.784 407.5001,-139.784 414.5001,-139.784\" stroke=\"#000000\"/>\n</g>\n<!-- 140422853521928 -->\n<g class=\"node\" id=\"node15\">\n<title>140422853521928</title>\n<polygon fill=\"none\" points=\"260,-.5 260,-46.5 562,-46.5 562,-.5 260,-.5\" stroke=\"#000000\"/>\n<text fill=\"#000000\" font-family=\"Times,serif\" font-size=\"14.00\" text-anchor=\"middle\" x=\"342\" y=\"-19.8\">Aspect-Softmax: Lambda</text>\n<polyline fill=\"none\" points=\"424,-.5 424,-46.5 \" stroke=\"#000000\"/>\n<text fill=\"#000000\" font-family=\"Times,serif\" font-size=\"14.00\" text-anchor=\"middle\" x=\"453\" y=\"-31.3\">input:</text>\n<polyline fill=\"none\" points=\"424,-23.5 482,-23.5 \" stroke=\"#000000\"/>\n<text fill=\"#000000\" font-family=\"Times,serif\" font-size=\"14.00\" text-anchor=\"middle\" x=\"453\" y=\"-8.3\">output:</text>\n<polyline fill=\"none\" points=\"482,-.5 482,-46.5 \" stroke=\"#000000\"/>\n<text fill=\"#000000\" font-family=\"Times,serif\" font-size=\"14.00\" text-anchor=\"middle\" x=\"522\" y=\"-31.3\">(None, 40)</text>\n<polyline fill=\"none\" points=\"482,-23.5 562,-23.5 \" stroke=\"#000000\"/>\n<text fill=\"#000000\" font-family=\"Times,serif\" font-size=\"14.00\" text-anchor=\"middle\" x=\"522\" y=\"-8.3\">(None, 40)</text>\n</g>\n<!-- 140422853926304&#45;&gt;140422853521928 -->\n<g class=\"edge\" id=\"edge16\">\n<title>140422853926304-&gt;140422853521928</title>\n<path d=\"M411,-83.3799C411,-75.1745 411,-65.7679 411,-56.8786\" fill=\"none\" stroke=\"#000000\"/>\n<polygon fill=\"#000000\" points=\"414.5001,-56.784 411,-46.784 407.5001,-56.784 414.5001,-56.784\" stroke=\"#000000\"/>\n</g>\n</g>\n</svg>"
          },
          "metadata": {
            "tags": []
          },
          "execution_count": 9
        }
      ]
    },
    {
      "metadata": {
        "id": "_I4_qBNIcq8G",
        "colab_type": "text"
      },
      "cell_type": "markdown",
      "source": [
        "### 2.2 Custom loss & metrics"
      ]
    },
    {
      "metadata": {
        "id": "8Ba_HN5Urj3w",
        "colab_type": "code",
        "colab": {}
      },
      "cell_type": "code",
      "source": [
        "def reshape_senti(y):\n",
        "    return K.reshape(y, (-1, N_SENTI))\n",
        "\n",
        "def reshape_aspect(y):\n",
        "    return K.reshape(y, (-1, N_ASPECT))\n",
        "\n",
        "def to_class_label(y):\n",
        "    \"\"\"Four probabilities to most likely class.\"\"\"\n",
        "    return K.argmax(reshape_senti(y))\n",
        "\n",
        "def cate_acc(y_true, y_pred):\n",
        "    \"\"\"Sum of cross entropy loss for all aspects.\"\"\"\n",
        "    y_true, y_pred = reshape_senti(y_true), reshape_senti(y_pred)\n",
        "    loss = reshape_aspect(K.categorical_crossentropy(y_true, y_pred))\n",
        "    return K.sum(loss, 1)\n",
        "\n",
        "def acc(y_true, y_pred):\n",
        "    \"\"\"Sentiment-wise accuracy.\"\"\"\n",
        "    y_true, y_pred = to_class_label(y_true), to_class_label(y_pred)\n",
        "    same = K.cast(K.equal(y_true, y_pred), K.floatx())\n",
        "    size = K.cast(K.shape(y_true)[0], K.floatx())\n",
        "    return K.sum(same) / size\n",
        "\n",
        "def f1(y_true, y_pred):\n",
        "    \"\"\"Task-required F1 score.\"\"\"\n",
        "    y_true, y_pred = to_class_label(y_true), to_class_label(y_pred)    \n",
        "    zeros = K.zeros_like(y_true)\n",
        "    \n",
        "    true_not_zero = K.cast(K.not_equal(y_true, zeros), K.floatx())\n",
        "    true_zero = K.cast(K.equal(y_true, zeros), K.floatx())\n",
        "    pred_not_zero = K.cast(K.not_equal(y_pred, zeros), K.floatx())\n",
        "    pred_zero = K.cast(K.equal(y_pred, zeros), K.floatx())\n",
        "    pred_not_true = K.cast(K.not_equal(y_true, y_pred), K.floatx())\n",
        "    pred_true = K.cast(K.equal(y_true, y_pred), K.floatx())\n",
        "    \n",
        "    tp = K.sum(true_not_zero * pred_not_zero * pred_true + K.epsilon())\n",
        "    fp = K.sum(true_not_zero * pred_not_zero * pred_not_true +\n",
        "               true_zero * pred_not_zero + K.epsilon())\n",
        "    fn = K.sum(true_not_zero * pred_zero + K.epsilon())\n",
        "    \n",
        "    p = tp / (tp + fp + K.epsilon())\n",
        "    r = tp / (tp + fn + K.epsilon())\n",
        "    f1 = 2 * p * r / (p + r + K.epsilon())\n",
        "    return f1"
      ],
      "execution_count": 0,
      "outputs": []
    },
    {
      "metadata": {
        "id": "B0SlywRWlL1d",
        "colab_type": "code",
        "colab": {}
      },
      "cell_type": "code",
      "source": [
        "model.compile(loss=cate_acc, optimizer='adam', metrics=[acc, f1])"
      ],
      "execution_count": 0,
      "outputs": []
    },
    {
      "metadata": {
        "id": "jZKXSKqodp9x",
        "colab_type": "text"
      },
      "cell_type": "markdown",
      "source": [
        "### 2.3 Train"
      ]
    },
    {
      "metadata": {
        "id": "_QS-7nUAr9Xt",
        "colab_type": "code",
        "colab": {}
      },
      "cell_type": "code",
      "source": [
        "checkpointer = ModelCheckpoint('/gdrive/My Drive/weights.hdf5', 'val_f1',\n",
        "                               mode='max', verbose=1, save_best_only=True,\n",
        "                               save_weights_only=True)\n",
        "earlystopper = EarlyStopping(patience=10, verbose=1)\n",
        "lrreducer = ReduceLROnPlateau(factor=0.65, patience=3, verbose=1)"
      ],
      "execution_count": 0,
      "outputs": []
    },
    {
      "metadata": {
        "id": "9pZR4Cp6dh-U",
        "colab_type": "code",
        "colab": {}
      },
      "cell_type": "code",
      "source": [
        "history = model.fit(X_train, y_train, batch_size=32, epochs=200,\n",
        "                    validation_data=(X_val, y_val),\n",
        "                    callbacks=[checkpointer, earlystopper, lrreducer])"
      ],
      "execution_count": 0,
      "outputs": []
    },
    {
      "metadata": {
        "id": "5dGG_ptXfHvm",
        "colab_type": "text"
      },
      "cell_type": "markdown",
      "source": [
        "### 2.4 Test"
      ]
    },
    {
      "metadata": {
        "id": "YRMwdaodw6QC",
        "colab_type": "code",
        "outputId": "0c30c713-372d-41a6-9dc2-291e88ca131b",
        "colab": {
          "base_uri": "https://localhost:8080/",
          "height": 50
        }
      },
      "cell_type": "code",
      "source": [
        "model.load_weights('/gdrive/My Drive/weights.hdf5')\n",
        "model.evaluate(X_test, y_test)"
      ],
      "execution_count": 14,
      "outputs": [
        {
          "output_type": "stream",
          "text": [
            "1065/1065 [==============================] - 9s 8ms/step\n"
          ],
          "name": "stdout"
        },
        {
          "output_type": "execute_result",
          "data": {
            "text/plain": [
              "[1.852036397333996, 0.9440375577675905, 0.7302211103864679]"
            ]
          },
          "metadata": {
            "tags": []
          },
          "execution_count": 14
        }
      ]
    },
    {
      "metadata": {
        "id": "qM_YksyFliyT",
        "colab_type": "text"
      },
      "cell_type": "markdown",
      "source": [
        "## 3 Predict & Submit"
      ]
    },
    {
      "metadata": {
        "id": "Svq-WV2Tlkto",
        "colab_type": "code",
        "colab": {}
      },
      "cell_type": "code",
      "source": [
        "def submission_data():\n",
        "    \"\"\"Format submission data to model input style.\"\"\"\n",
        "    ids, X = [], []\n",
        "    for e in pd.read_csv('test_public.csv').itertuples():\n",
        "        ids += [e.content_id] * N_ASPECT\n",
        "        X.append(preprocess(e.content))\n",
        "    return ids, pad_sequences(X, maxlen=Tx)\n",
        "\n",
        "ids, X = submission_data()"
      ],
      "execution_count": 0,
      "outputs": []
    },
    {
      "metadata": {
        "id": "ExKbXOjH7VyL",
        "colab_type": "code",
        "outputId": "fd728cb7-7804-4f0d-88de-394d567159c7",
        "colab": {
          "base_uri": "https://localhost:8080/",
          "height": 33
        }
      },
      "cell_type": "code",
      "source": [
        "pred = model.predict(X, verbose=1)"
      ],
      "execution_count": 16,
      "outputs": [
        {
          "output_type": "stream",
          "text": [
            "2753/2753 [==============================] - 22s 8ms/step\n"
          ],
          "name": "stdout"
        }
      ]
    },
    {
      "metadata": {
        "id": "AKPMr8IqqNfH",
        "colab_type": "code",
        "colab": {}
      },
      "cell_type": "code",
      "source": [
        "def for_submission():\n",
        "    \"\"\"Format model output to submission style.\"\"\"\n",
        "    senti_id_label = {v: str(k) for k, v in senti_label_id.items()}\n",
        "    aspect_id_label = {v: k for k, v in aspect_label_id.items()}\n",
        "    prediction = pred.reshape(-1, N_SENTI)\n",
        "    submit = 'content_id,subject,sentiment_value,sentiment_word\\n'\n",
        "    a = -1\n",
        "    for ID, p in zip(ids, prediction):\n",
        "        a = (a + 1) % N_ASPECT\n",
        "        if a == 0:\n",
        "            no_label = True\n",
        "            lowest_0 = {'p': 1, 'a': 0, 's': 0}\n",
        "        \n",
        "        a_label = aspect_id_label[a]\n",
        "        s = np.argmax(p)\n",
        "        if s != 0:\n",
        "            no_label = False\n",
        "            submit += ID + ',' + a_label + ',' + senti_id_label[s] + ',\\n'\n",
        "        else:\n",
        "            if p[0] < lowest_0['p']:\n",
        "                lowest_0['p'] = p[0]\n",
        "                # Record aspect and its most likely sentiment\n",
        "                # with lowest probability on \"Irrelevant\" class.\n",
        "                lowest_0['a'] = a_label\n",
        "                lowest_0['s'] = np.argmax(p[1:]) + 1            \n",
        "        \n",
        "        # Post processing. At least one sentiment for each sentence.\n",
        "        if a == 9 and no_label:\n",
        "            print('No Label')\n",
        "            submit += ID + ',' + lowest_0['a'] + ',' \\\n",
        "                      + senti_id_label[lowest_0['s']] + ',\\n'\n",
        "            \n",
        "    return submit\n",
        "\n",
        "print(for_submission())"
      ],
      "execution_count": 0,
      "outputs": []
    }
  ]
}
